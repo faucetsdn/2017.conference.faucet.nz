{
 "cells": [
  {
   "cell_type": "markdown",
   "metadata": {},
   "source": [
    "# What Happens If I Make a Mistake?\n",
    "\n",
    "This notebook contains an interactive introduction to the OFTR language.\n",
    "\n",
    "## ZOF Codec\n",
    "\n",
    "For the first step, we are going to show how to use *zof.codec*. This is a tool for translating OpenFlow messages from YAML to binary and back again.\n",
    "\n",
    "First, import *zof.codec*."
   ]
  },
  {
   "cell_type": "code",
   "execution_count": 2,
   "metadata": {
    "scrolled": true
   },
   "outputs": [],
   "source": [
    "import zof.codec"
   ]
  },
  {
   "cell_type": "markdown",
   "metadata": {},
   "source": [
    "Let's test *zof.codec* to make sure it is working."
   ]
  },
  {
   "cell_type": "code",
   "execution_count": 3,
   "metadata": {
    "scrolled": true
   },
   "outputs": [
    {
     "data": {
      "text/plain": [
       "b'\\x04\\x05\\x00\\x08\\x00\\x00\\x00\\x00'"
      ]
     },
     "execution_count": 3,
     "metadata": {},
     "output_type": "execute_result"
    }
   ],
   "source": [
    "'type: FEATURES_REQUEST'.encode('openflow')"
   ]
  },
  {
   "cell_type": "markdown",
   "metadata": {},
   "source": [
    "The output shows a binary OpenFlow version 1.3 (0x04) message. We can decode this using *decode*."
   ]
  },
  {
   "cell_type": "code",
   "execution_count": 4,
   "metadata": {
    "scrolled": true
   },
   "outputs": [
    {
     "name": "stdout",
     "output_type": "stream",
     "text": [
      "---\n",
      "type:            FEATURES_REQUEST\n",
      "xid:             0x00000000\n",
      "version:         0x04\n",
      "msg:             \n",
      "...\n",
      "\n"
     ]
    }
   ],
   "source": [
    "print(b'\\x04\\x05\\x00\\x08\\x00\\x00\\x00\\x00'.decode('openflow'))"
   ]
  },
  {
   "cell_type": "code",
   "execution_count": 5,
   "metadata": {
    "scrolled": true
   },
   "outputs": [
    {
     "name": "stdout",
     "output_type": "stream",
     "text": [
      "---\n",
      "type:            HELLO\n",
      "xid:             0x00000000\n",
      "version:         0x01\n",
      "msg:             \n",
      "  versions:        [  ]\n",
      "...\n",
      "\n"
     ]
    }
   ],
   "source": [
    "import zof.codec\n",
    "\n",
    "def dump(s):\n",
    "    try:\n",
    "        print(s.encode('openflow').decode('openflow'))\n",
    "    except Exception as ex:\n",
    "        print(ex)\n",
    "\n",
    "dump('''\n",
    "type: HELLO\n",
    "version: 1\n",
    "''')"
   ]
  },
  {
   "cell_type": "code",
   "execution_count": 6,
   "metadata": {
    "scrolled": true
   },
   "outputs": [
    {
     "name": "stdout",
     "output_type": "stream",
     "text": [
      "---\n",
      "type:            FLOW_MOD\n",
      "xid:             0x00000000\n",
      "version:         0x04\n",
      "msg:             \n",
      "  cookie:          0x0000000000000000\n",
      "  cookie_mask:     0x0000000000000000\n",
      "  table_id:        0x00\n",
      "  command:         ADD\n",
      "  idle_timeout:    0x0000\n",
      "  hard_timeout:    0x0000\n",
      "  priority:        0x0000\n",
      "  buffer_id:       0x00000007\n",
      "  out_port:        ANY\n",
      "  out_group:       ANY\n",
      "  flags:           [  ]\n",
      "  match:           \n",
      "    - field:           ETH_DST\n",
      "      value:           '00:00:00:00:00:01'\n",
      "  instructions:    \n",
      "...\n",
      "\n"
     ]
    }
   ],
   "source": [
    "dump('''\n",
    "type: FLOW_MOD\n",
    "msg:\n",
    "  command: ADD\n",
    "  table_id: 0\n",
    "  buffer_id: 7\n",
    "  match:\n",
    "    - field: ETH_DST\n",
    "      value: 00:00:00:00:00:01\n",
    "''')"
   ]
  },
  {
   "cell_type": "code",
   "execution_count": 7,
   "metadata": {
    "scrolled": true
   },
   "outputs": [
    {
     "name": "stdout",
     "output_type": "stream",
     "text": [
      "YAML:2:9: error: unknown value \"ROLE_request\" Did you mean \"ROLE_REQUEST\"?\n",
      "  type: ROLE_request\n",
      "        ^~~~~~~~~~~~\n",
      "\n"
     ]
    }
   ],
   "source": [
    "dump('''\n",
    "  type: ROLE_request\n",
    "  msg:\n",
    "    role: ROLE_MASTER\n",
    "    generation_id: 0x10\n",
    "''')"
   ]
  },
  {
   "cell_type": "code",
   "execution_count": 8,
   "metadata": {
    "scrolled": true
   },
   "outputs": [
    {
     "name": "stdout",
     "output_type": "stream",
     "text": [
      "YAML:4:5: error: missing required key 'generation_id'\n",
      "    role: ROLE_MASTER\n",
      "    ^\n",
      "\n"
     ]
    }
   ],
   "source": [
    "dump('''\n",
    "  type: ROLE_REQUEST\n",
    "  msg:\n",
    "    role: ROLE_MASTER\n",
    "    generation: 0x10\n",
    "''')"
   ]
  },
  {
   "cell_type": "code",
   "execution_count": 9,
   "metadata": {
    "scrolled": true
   },
   "outputs": [
    {
     "name": "stdout",
     "output_type": "stream",
     "text": [
      "YAML:6:12: error: unknown key 'extra'\n",
      "    extra: 1\n",
      "           ^\n",
      "\n"
     ]
    }
   ],
   "source": [
    "dump('''\n",
    "  type: ROLE_REQUEST\n",
    "  msg:\n",
    "    role: ROLE_MASTER\n",
    "    generation_id: 0x10\n",
    "    extra: 1\n",
    "''')"
   ]
  },
  {
   "cell_type": "code",
   "execution_count": 10,
   "metadata": {},
   "outputs": [
    {
     "name": "stdout",
     "output_type": "stream",
     "text": [
      "YAML:6:12: error: unknown key 'extra'\n",
      "    extra: 1\n",
      "           ^\n",
      "\n"
     ]
    }
   ],
   "source": [
    "dump('''\n",
    "  type: ROLE_REQUEST\n",
    "  msg:\n",
    "    role: 1000\n",
    "    generation_id: 0x10\n",
    "    extra: 1\n",
    "''')"
   ]
  },
  {
   "cell_type": "code",
   "execution_count": 11,
   "metadata": {
    "scrolled": true
   },
   "outputs": [
    {
     "name": "stdout",
     "output_type": "stream",
     "text": [
      "---\n",
      "type:            ROLE_REQUEST\n",
      "xid:             0x00000000\n",
      "version:         0x04\n",
      "msg:             \n",
      "  role:            ROLE_MASTER\n",
      "  generation_id:   0x0000000000000010\n",
      "...\n",
      "\n"
     ]
    }
   ],
   "source": [
    "dump('''\n",
    "{\n",
    "  \"type\": \"ROLE_REQUEST\",\n",
    "   \"msg\": {\n",
    "      role: ROLE_MASTER,\n",
    "      generation_id: \"0x10\"\n",
    "    }\n",
    "}\n",
    "''')"
   ]
  },
  {
   "cell_type": "code",
   "execution_count": null,
   "metadata": {
    "scrolled": true
   },
   "outputs": [],
   "source": []
  }
 ],
 "metadata": {
  "kernelspec": {
   "display_name": "Python 3",
   "language": "python",
   "name": "python3"
  },
  "language_info": {
   "codemirror_mode": {
    "name": "ipython",
    "version": 3
   },
   "file_extension": ".py",
   "mimetype": "text/x-python",
   "name": "python",
   "nbconvert_exporter": "python",
   "pygments_lexer": "ipython3",
   "version": "3.6.3"
  }
 },
 "nbformat": 4,
 "nbformat_minor": 2
}
